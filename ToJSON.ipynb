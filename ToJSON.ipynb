{
 "metadata": {
  "language_info": {
   "codemirror_mode": {
    "name": "ipython",
    "version": 3
   },
   "file_extension": ".py",
   "mimetype": "text/x-python",
   "name": "python",
   "nbconvert_exporter": "python",
   "pygments_lexer": "ipython3",
   "version": "3.8.5-final"
  },
  "orig_nbformat": 2,
  "kernelspec": {
   "name": "pythondata",
   "display_name": "(PythonData)",
   "language": "python"
  }
 },
 "nbformat": 4,
 "nbformat_minor": 2,
 "cells": [
  {
   "cell_type": "code",
   "execution_count": 1,
   "metadata": {},
   "outputs": [],
   "source": [
    "import pandas as pd"
   ]
  },
  {
   "cell_type": "code",
   "execution_count": 2,
   "metadata": {},
   "outputs": [],
   "source": [
    "sun_file = \"data/sun_data.csv\"\n",
    "city_file = \"data/us_cities.csv\""
   ]
  },
  {
   "cell_type": "code",
   "execution_count": 3,
   "metadata": {},
   "outputs": [],
   "source": [
    "sun_data = pd.read_csv(sun_file)\n",
    "city_data = pd.read_csv(city_file)"
   ]
  },
  {
   "cell_type": "code",
   "execution_count": 4,
   "metadata": {},
   "outputs": [
    {
     "output_type": "execute_result",
     "data": {
      "text/plain": [
       "         CITY state   JAN   FEB   MAR   APR   MAY   JUN  JUL  AUG  SEP  OCT  \\\n",
       "0  BIRMINGHAM    AL  46.0  53.0  57.0  65.0  65.0  67.0   59   62   59   66   \n",
       "1  MONTGOMERY    AL  47.0  55.0  58.0  64.0  63.0  64.0   61   61   59   63   \n",
       "2   ANCHORAGE    AK  43.0  46.0  51.0  50.0  51.0  46.0   43   43   41   36   \n",
       "3      JUNEAU    AK  39.0  35.0  38.0  42.0  44.0  37.0   33   35   27   21   \n",
       "4        NOME    AK  38.0  56.0  54.0  52.0  52.0  43.0   39   34   38   35   \n",
       "\n",
       "   NOV   DEC   ANN  \n",
       "0   55  49.0  58.0  \n",
       "1   55  49.0  58.0  \n",
       "2   35  33.0  43.0  \n",
       "3   26  21.0  33.0  \n",
       "4   30  36.0  42.0  "
      ],
      "text/html": "<div>\n<style scoped>\n    .dataframe tbody tr th:only-of-type {\n        vertical-align: middle;\n    }\n\n    .dataframe tbody tr th {\n        vertical-align: top;\n    }\n\n    .dataframe thead th {\n        text-align: right;\n    }\n</style>\n<table border=\"1\" class=\"dataframe\">\n  <thead>\n    <tr style=\"text-align: right;\">\n      <th></th>\n      <th>CITY</th>\n      <th>state</th>\n      <th>JAN</th>\n      <th>FEB</th>\n      <th>MAR</th>\n      <th>APR</th>\n      <th>MAY</th>\n      <th>JUN</th>\n      <th>JUL</th>\n      <th>AUG</th>\n      <th>SEP</th>\n      <th>OCT</th>\n      <th>NOV</th>\n      <th>DEC</th>\n      <th>ANN</th>\n    </tr>\n  </thead>\n  <tbody>\n    <tr>\n      <th>0</th>\n      <td>BIRMINGHAM</td>\n      <td>AL</td>\n      <td>46.0</td>\n      <td>53.0</td>\n      <td>57.0</td>\n      <td>65.0</td>\n      <td>65.0</td>\n      <td>67.0</td>\n      <td>59</td>\n      <td>62</td>\n      <td>59</td>\n      <td>66</td>\n      <td>55</td>\n      <td>49.0</td>\n      <td>58.0</td>\n    </tr>\n    <tr>\n      <th>1</th>\n      <td>MONTGOMERY</td>\n      <td>AL</td>\n      <td>47.0</td>\n      <td>55.0</td>\n      <td>58.0</td>\n      <td>64.0</td>\n      <td>63.0</td>\n      <td>64.0</td>\n      <td>61</td>\n      <td>61</td>\n      <td>59</td>\n      <td>63</td>\n      <td>55</td>\n      <td>49.0</td>\n      <td>58.0</td>\n    </tr>\n    <tr>\n      <th>2</th>\n      <td>ANCHORAGE</td>\n      <td>AK</td>\n      <td>43.0</td>\n      <td>46.0</td>\n      <td>51.0</td>\n      <td>50.0</td>\n      <td>51.0</td>\n      <td>46.0</td>\n      <td>43</td>\n      <td>43</td>\n      <td>41</td>\n      <td>36</td>\n      <td>35</td>\n      <td>33.0</td>\n      <td>43.0</td>\n    </tr>\n    <tr>\n      <th>3</th>\n      <td>JUNEAU</td>\n      <td>AK</td>\n      <td>39.0</td>\n      <td>35.0</td>\n      <td>38.0</td>\n      <td>42.0</td>\n      <td>44.0</td>\n      <td>37.0</td>\n      <td>33</td>\n      <td>35</td>\n      <td>27</td>\n      <td>21</td>\n      <td>26</td>\n      <td>21.0</td>\n      <td>33.0</td>\n    </tr>\n    <tr>\n      <th>4</th>\n      <td>NOME</td>\n      <td>AK</td>\n      <td>38.0</td>\n      <td>56.0</td>\n      <td>54.0</td>\n      <td>52.0</td>\n      <td>52.0</td>\n      <td>43.0</td>\n      <td>39</td>\n      <td>34</td>\n      <td>38</td>\n      <td>35</td>\n      <td>30</td>\n      <td>36.0</td>\n      <td>42.0</td>\n    </tr>\n  </tbody>\n</table>\n</div>"
     },
     "metadata": {},
     "execution_count": 4
    }
   ],
   "source": [
    "sun_data.head()"
   ]
  },
  {
   "cell_type": "code",
   "execution_count": 5,
   "metadata": {},
   "outputs": [
    {
     "output_type": "execute_result",
     "data": {
      "text/plain": [
       "   ID STATE_CODE STATE_NAME      CITY          COUNTY   LATITUDE   LONGITUDE\n",
       "0   1         AK     Alaska      Adak  Aleutians West  55.999722 -161.207778\n",
       "1   2         AK     Alaska  Akiachak          Bethel  60.891854 -161.392330\n",
       "2   3         AK     Alaska     Akiak          Bethel  60.890632 -161.199325\n",
       "3   4         AK     Alaska    Akutan  Aleutians East  54.143012 -165.785368\n",
       "4   5         AK     Alaska  Alakanuk    Wade Hampton  62.746967 -164.602280"
      ],
      "text/html": "<div>\n<style scoped>\n    .dataframe tbody tr th:only-of-type {\n        vertical-align: middle;\n    }\n\n    .dataframe tbody tr th {\n        vertical-align: top;\n    }\n\n    .dataframe thead th {\n        text-align: right;\n    }\n</style>\n<table border=\"1\" class=\"dataframe\">\n  <thead>\n    <tr style=\"text-align: right;\">\n      <th></th>\n      <th>ID</th>\n      <th>STATE_CODE</th>\n      <th>STATE_NAME</th>\n      <th>CITY</th>\n      <th>COUNTY</th>\n      <th>LATITUDE</th>\n      <th>LONGITUDE</th>\n    </tr>\n  </thead>\n  <tbody>\n    <tr>\n      <th>0</th>\n      <td>1</td>\n      <td>AK</td>\n      <td>Alaska</td>\n      <td>Adak</td>\n      <td>Aleutians West</td>\n      <td>55.999722</td>\n      <td>-161.207778</td>\n    </tr>\n    <tr>\n      <th>1</th>\n      <td>2</td>\n      <td>AK</td>\n      <td>Alaska</td>\n      <td>Akiachak</td>\n      <td>Bethel</td>\n      <td>60.891854</td>\n      <td>-161.392330</td>\n    </tr>\n    <tr>\n      <th>2</th>\n      <td>3</td>\n      <td>AK</td>\n      <td>Alaska</td>\n      <td>Akiak</td>\n      <td>Bethel</td>\n      <td>60.890632</td>\n      <td>-161.199325</td>\n    </tr>\n    <tr>\n      <th>3</th>\n      <td>4</td>\n      <td>AK</td>\n      <td>Alaska</td>\n      <td>Akutan</td>\n      <td>Aleutians East</td>\n      <td>54.143012</td>\n      <td>-165.785368</td>\n    </tr>\n    <tr>\n      <th>4</th>\n      <td>5</td>\n      <td>AK</td>\n      <td>Alaska</td>\n      <td>Alakanuk</td>\n      <td>Wade Hampton</td>\n      <td>62.746967</td>\n      <td>-164.602280</td>\n    </tr>\n  </tbody>\n</table>\n</div>"
     },
     "metadata": {},
     "execution_count": 5
    }
   ],
   "source": [
    "city_data.head()"
   ]
  },
  {
   "cell_type": "code",
   "execution_count": 6,
   "metadata": {},
   "outputs": [],
   "source": [
    "sun_data = sun_data.rename(columns={\"state\": \"STATE_CODE\"})"
   ]
  },
  {
   "cell_type": "code",
   "execution_count": 7,
   "metadata": {},
   "outputs": [
    {
     "output_type": "execute_result",
     "data": {
      "text/plain": [
       "                       CITY STATE_CODE   JAN   FEB   MAR   APR   MAY   JUN  \\\n",
       "0                BIRMINGHAM         AL  46.0  53.0  57.0  65.0  65.0  67.0   \n",
       "1                MONTGOMERY         AL  47.0  55.0  58.0  64.0  63.0  64.0   \n",
       "2                 ANCHORAGE         AK  43.0  46.0  51.0  50.0  51.0  46.0   \n",
       "3                    JUNEAU         AK  39.0  35.0  38.0  42.0  44.0  37.0   \n",
       "4                      NOME         AK  38.0  56.0  54.0  52.0  52.0  43.0   \n",
       "..                      ...        ...   ...   ...   ...   ...   ...   ...   \n",
       "153   PAGO PAGO- AMER SAMOA         PC  43.0  45.0  50.0  44.0  38.0  38.0   \n",
       "154   POHNPEI- CAROLINE IS.         PC  40.0  43.0  47.0  43.0  41.0  40.0   \n",
       "155  CHUUK- E. CAROLINE IS.         PC  56.0  62.0  60.0  57.0  52.0  50.0   \n",
       "156     YAP- W CAROLINE IS.         PC  57.0  62.0  66.0  66.0  61.0  55.0   \n",
       "157                SAN JUAN         PR  66.0  69.0  75.0  69.0  58.0  63.0   \n",
       "\n",
       "     JUL  AUG  SEP  OCT  NOV   DEC   ANN  \n",
       "0     59   62   59   66   55  49.0  58.0  \n",
       "1     61   61   59   63   55  49.0  58.0  \n",
       "2     43   43   41   36   35  33.0  43.0  \n",
       "3     33   35   27   21   26  21.0  33.0  \n",
       "4     39   34   38   35   30  36.0  42.0  \n",
       "..   ...  ...  ...  ...  ...   ...   ...  \n",
       "153   45   51   57   44   42  40.0  44.0  \n",
       "154   40   43   44   38   41  35.0  41.0  \n",
       "155   53   57   51   48   49  51.0  53.0  \n",
       "156   48   49   51   51   57  58.0  56.0  \n",
       "157   68   67   65   60   57  57.0  64.0  \n",
       "\n",
       "[158 rows x 15 columns]"
      ],
      "text/html": "<div>\n<style scoped>\n    .dataframe tbody tr th:only-of-type {\n        vertical-align: middle;\n    }\n\n    .dataframe tbody tr th {\n        vertical-align: top;\n    }\n\n    .dataframe thead th {\n        text-align: right;\n    }\n</style>\n<table border=\"1\" class=\"dataframe\">\n  <thead>\n    <tr style=\"text-align: right;\">\n      <th></th>\n      <th>CITY</th>\n      <th>STATE_CODE</th>\n      <th>JAN</th>\n      <th>FEB</th>\n      <th>MAR</th>\n      <th>APR</th>\n      <th>MAY</th>\n      <th>JUN</th>\n      <th>JUL</th>\n      <th>AUG</th>\n      <th>SEP</th>\n      <th>OCT</th>\n      <th>NOV</th>\n      <th>DEC</th>\n      <th>ANN</th>\n    </tr>\n  </thead>\n  <tbody>\n    <tr>\n      <th>0</th>\n      <td>BIRMINGHAM</td>\n      <td>AL</td>\n      <td>46.0</td>\n      <td>53.0</td>\n      <td>57.0</td>\n      <td>65.0</td>\n      <td>65.0</td>\n      <td>67.0</td>\n      <td>59</td>\n      <td>62</td>\n      <td>59</td>\n      <td>66</td>\n      <td>55</td>\n      <td>49.0</td>\n      <td>58.0</td>\n    </tr>\n    <tr>\n      <th>1</th>\n      <td>MONTGOMERY</td>\n      <td>AL</td>\n      <td>47.0</td>\n      <td>55.0</td>\n      <td>58.0</td>\n      <td>64.0</td>\n      <td>63.0</td>\n      <td>64.0</td>\n      <td>61</td>\n      <td>61</td>\n      <td>59</td>\n      <td>63</td>\n      <td>55</td>\n      <td>49.0</td>\n      <td>58.0</td>\n    </tr>\n    <tr>\n      <th>2</th>\n      <td>ANCHORAGE</td>\n      <td>AK</td>\n      <td>43.0</td>\n      <td>46.0</td>\n      <td>51.0</td>\n      <td>50.0</td>\n      <td>51.0</td>\n      <td>46.0</td>\n      <td>43</td>\n      <td>43</td>\n      <td>41</td>\n      <td>36</td>\n      <td>35</td>\n      <td>33.0</td>\n      <td>43.0</td>\n    </tr>\n    <tr>\n      <th>3</th>\n      <td>JUNEAU</td>\n      <td>AK</td>\n      <td>39.0</td>\n      <td>35.0</td>\n      <td>38.0</td>\n      <td>42.0</td>\n      <td>44.0</td>\n      <td>37.0</td>\n      <td>33</td>\n      <td>35</td>\n      <td>27</td>\n      <td>21</td>\n      <td>26</td>\n      <td>21.0</td>\n      <td>33.0</td>\n    </tr>\n    <tr>\n      <th>4</th>\n      <td>NOME</td>\n      <td>AK</td>\n      <td>38.0</td>\n      <td>56.0</td>\n      <td>54.0</td>\n      <td>52.0</td>\n      <td>52.0</td>\n      <td>43.0</td>\n      <td>39</td>\n      <td>34</td>\n      <td>38</td>\n      <td>35</td>\n      <td>30</td>\n      <td>36.0</td>\n      <td>42.0</td>\n    </tr>\n    <tr>\n      <th>...</th>\n      <td>...</td>\n      <td>...</td>\n      <td>...</td>\n      <td>...</td>\n      <td>...</td>\n      <td>...</td>\n      <td>...</td>\n      <td>...</td>\n      <td>...</td>\n      <td>...</td>\n      <td>...</td>\n      <td>...</td>\n      <td>...</td>\n      <td>...</td>\n      <td>...</td>\n    </tr>\n    <tr>\n      <th>153</th>\n      <td>PAGO PAGO- AMER SAMOA</td>\n      <td>PC</td>\n      <td>43.0</td>\n      <td>45.0</td>\n      <td>50.0</td>\n      <td>44.0</td>\n      <td>38.0</td>\n      <td>38.0</td>\n      <td>45</td>\n      <td>51</td>\n      <td>57</td>\n      <td>44</td>\n      <td>42</td>\n      <td>40.0</td>\n      <td>44.0</td>\n    </tr>\n    <tr>\n      <th>154</th>\n      <td>POHNPEI- CAROLINE IS.</td>\n      <td>PC</td>\n      <td>40.0</td>\n      <td>43.0</td>\n      <td>47.0</td>\n      <td>43.0</td>\n      <td>41.0</td>\n      <td>40.0</td>\n      <td>40</td>\n      <td>43</td>\n      <td>44</td>\n      <td>38</td>\n      <td>41</td>\n      <td>35.0</td>\n      <td>41.0</td>\n    </tr>\n    <tr>\n      <th>155</th>\n      <td>CHUUK- E. CAROLINE IS.</td>\n      <td>PC</td>\n      <td>56.0</td>\n      <td>62.0</td>\n      <td>60.0</td>\n      <td>57.0</td>\n      <td>52.0</td>\n      <td>50.0</td>\n      <td>53</td>\n      <td>57</td>\n      <td>51</td>\n      <td>48</td>\n      <td>49</td>\n      <td>51.0</td>\n      <td>53.0</td>\n    </tr>\n    <tr>\n      <th>156</th>\n      <td>YAP- W CAROLINE IS.</td>\n      <td>PC</td>\n      <td>57.0</td>\n      <td>62.0</td>\n      <td>66.0</td>\n      <td>66.0</td>\n      <td>61.0</td>\n      <td>55.0</td>\n      <td>48</td>\n      <td>49</td>\n      <td>51</td>\n      <td>51</td>\n      <td>57</td>\n      <td>58.0</td>\n      <td>56.0</td>\n    </tr>\n    <tr>\n      <th>157</th>\n      <td>SAN JUAN</td>\n      <td>PR</td>\n      <td>66.0</td>\n      <td>69.0</td>\n      <td>75.0</td>\n      <td>69.0</td>\n      <td>58.0</td>\n      <td>63.0</td>\n      <td>68</td>\n      <td>67</td>\n      <td>65</td>\n      <td>60</td>\n      <td>57</td>\n      <td>57.0</td>\n      <td>64.0</td>\n    </tr>\n  </tbody>\n</table>\n<p>158 rows × 15 columns</p>\n</div>"
     },
     "metadata": {},
     "execution_count": 7
    }
   ],
   "source": [
    "sun_data"
   ]
  },
  {
   "cell_type": "code",
   "execution_count": 8,
   "metadata": {},
   "outputs": [],
   "source": [
    "city_loc = city_data[[\"CITY\", \"STATE_CODE\", \"LATITUDE\", \"LONGITUDE\"]]"
   ]
  },
  {
   "cell_type": "code",
   "execution_count": 9,
   "metadata": {},
   "outputs": [
    {
     "output_type": "execute_result",
     "data": {
      "text/plain": [
       "       CITY STATE_CODE   LATITUDE   LONGITUDE\n",
       "0      Adak         AK  55.999722 -161.207778\n",
       "1  Akiachak         AK  60.891854 -161.392330\n",
       "2     Akiak         AK  60.890632 -161.199325\n",
       "3    Akutan         AK  54.143012 -165.785368\n",
       "4  Alakanuk         AK  62.746967 -164.602280"
      ],
      "text/html": "<div>\n<style scoped>\n    .dataframe tbody tr th:only-of-type {\n        vertical-align: middle;\n    }\n\n    .dataframe tbody tr th {\n        vertical-align: top;\n    }\n\n    .dataframe thead th {\n        text-align: right;\n    }\n</style>\n<table border=\"1\" class=\"dataframe\">\n  <thead>\n    <tr style=\"text-align: right;\">\n      <th></th>\n      <th>CITY</th>\n      <th>STATE_CODE</th>\n      <th>LATITUDE</th>\n      <th>LONGITUDE</th>\n    </tr>\n  </thead>\n  <tbody>\n    <tr>\n      <th>0</th>\n      <td>Adak</td>\n      <td>AK</td>\n      <td>55.999722</td>\n      <td>-161.207778</td>\n    </tr>\n    <tr>\n      <th>1</th>\n      <td>Akiachak</td>\n      <td>AK</td>\n      <td>60.891854</td>\n      <td>-161.392330</td>\n    </tr>\n    <tr>\n      <th>2</th>\n      <td>Akiak</td>\n      <td>AK</td>\n      <td>60.890632</td>\n      <td>-161.199325</td>\n    </tr>\n    <tr>\n      <th>3</th>\n      <td>Akutan</td>\n      <td>AK</td>\n      <td>54.143012</td>\n      <td>-165.785368</td>\n    </tr>\n    <tr>\n      <th>4</th>\n      <td>Alakanuk</td>\n      <td>AK</td>\n      <td>62.746967</td>\n      <td>-164.602280</td>\n    </tr>\n  </tbody>\n</table>\n</div>"
     },
     "metadata": {},
     "execution_count": 9
    }
   ],
   "source": [
    "city_loc.head()"
   ]
  },
  {
   "cell_type": "code",
   "execution_count": 10,
   "metadata": {},
   "outputs": [],
   "source": [
    "city_loc[\"CITY\"] = city_loc[\"CITY\"].str.title()\n",
    "sun_data[\"CITY\"] = sun_data[\"CITY\"].str.title()"
   ]
  },
  {
   "cell_type": "code",
   "execution_count": 11,
   "metadata": {},
   "outputs": [
    {
     "output_type": "execute_result",
     "data": {
      "text/plain": [
       "       CITY STATE_CODE   LATITUDE   LONGITUDE\n",
       "0      Adak         AK  55.999722 -161.207778\n",
       "1  Akiachak         AK  60.891854 -161.392330\n",
       "2     Akiak         AK  60.890632 -161.199325\n",
       "3    Akutan         AK  54.143012 -165.785368\n",
       "4  Alakanuk         AK  62.746967 -164.602280"
      ],
      "text/html": "<div>\n<style scoped>\n    .dataframe tbody tr th:only-of-type {\n        vertical-align: middle;\n    }\n\n    .dataframe tbody tr th {\n        vertical-align: top;\n    }\n\n    .dataframe thead th {\n        text-align: right;\n    }\n</style>\n<table border=\"1\" class=\"dataframe\">\n  <thead>\n    <tr style=\"text-align: right;\">\n      <th></th>\n      <th>CITY</th>\n      <th>STATE_CODE</th>\n      <th>LATITUDE</th>\n      <th>LONGITUDE</th>\n    </tr>\n  </thead>\n  <tbody>\n    <tr>\n      <th>0</th>\n      <td>Adak</td>\n      <td>AK</td>\n      <td>55.999722</td>\n      <td>-161.207778</td>\n    </tr>\n    <tr>\n      <th>1</th>\n      <td>Akiachak</td>\n      <td>AK</td>\n      <td>60.891854</td>\n      <td>-161.392330</td>\n    </tr>\n    <tr>\n      <th>2</th>\n      <td>Akiak</td>\n      <td>AK</td>\n      <td>60.890632</td>\n      <td>-161.199325</td>\n    </tr>\n    <tr>\n      <th>3</th>\n      <td>Akutan</td>\n      <td>AK</td>\n      <td>54.143012</td>\n      <td>-165.785368</td>\n    </tr>\n    <tr>\n      <th>4</th>\n      <td>Alakanuk</td>\n      <td>AK</td>\n      <td>62.746967</td>\n      <td>-164.602280</td>\n    </tr>\n  </tbody>\n</table>\n</div>"
     },
     "metadata": {},
     "execution_count": 11
    }
   ],
   "source": [
    "city_loc.head()"
   ]
  },
  {
   "cell_type": "code",
   "execution_count": 12,
   "metadata": {},
   "outputs": [
    {
     "output_type": "execute_result",
     "data": {
      "text/plain": [
       "         CITY STATE_CODE   JAN   FEB   MAR   APR   MAY   JUN  JUL  AUG  SEP  \\\n",
       "0  Birmingham         AL  46.0  53.0  57.0  65.0  65.0  67.0   59   62   59   \n",
       "1  Montgomery         AL  47.0  55.0  58.0  64.0  63.0  64.0   61   61   59   \n",
       "2   Anchorage         AK  43.0  46.0  51.0  50.0  51.0  46.0   43   43   41   \n",
       "3      Juneau         AK  39.0  35.0  38.0  42.0  44.0  37.0   33   35   27   \n",
       "4        Nome         AK  38.0  56.0  54.0  52.0  52.0  43.0   39   34   38   \n",
       "\n",
       "   OCT  NOV   DEC   ANN  \n",
       "0   66   55  49.0  58.0  \n",
       "1   63   55  49.0  58.0  \n",
       "2   36   35  33.0  43.0  \n",
       "3   21   26  21.0  33.0  \n",
       "4   35   30  36.0  42.0  "
      ],
      "text/html": "<div>\n<style scoped>\n    .dataframe tbody tr th:only-of-type {\n        vertical-align: middle;\n    }\n\n    .dataframe tbody tr th {\n        vertical-align: top;\n    }\n\n    .dataframe thead th {\n        text-align: right;\n    }\n</style>\n<table border=\"1\" class=\"dataframe\">\n  <thead>\n    <tr style=\"text-align: right;\">\n      <th></th>\n      <th>CITY</th>\n      <th>STATE_CODE</th>\n      <th>JAN</th>\n      <th>FEB</th>\n      <th>MAR</th>\n      <th>APR</th>\n      <th>MAY</th>\n      <th>JUN</th>\n      <th>JUL</th>\n      <th>AUG</th>\n      <th>SEP</th>\n      <th>OCT</th>\n      <th>NOV</th>\n      <th>DEC</th>\n      <th>ANN</th>\n    </tr>\n  </thead>\n  <tbody>\n    <tr>\n      <th>0</th>\n      <td>Birmingham</td>\n      <td>AL</td>\n      <td>46.0</td>\n      <td>53.0</td>\n      <td>57.0</td>\n      <td>65.0</td>\n      <td>65.0</td>\n      <td>67.0</td>\n      <td>59</td>\n      <td>62</td>\n      <td>59</td>\n      <td>66</td>\n      <td>55</td>\n      <td>49.0</td>\n      <td>58.0</td>\n    </tr>\n    <tr>\n      <th>1</th>\n      <td>Montgomery</td>\n      <td>AL</td>\n      <td>47.0</td>\n      <td>55.0</td>\n      <td>58.0</td>\n      <td>64.0</td>\n      <td>63.0</td>\n      <td>64.0</td>\n      <td>61</td>\n      <td>61</td>\n      <td>59</td>\n      <td>63</td>\n      <td>55</td>\n      <td>49.0</td>\n      <td>58.0</td>\n    </tr>\n    <tr>\n      <th>2</th>\n      <td>Anchorage</td>\n      <td>AK</td>\n      <td>43.0</td>\n      <td>46.0</td>\n      <td>51.0</td>\n      <td>50.0</td>\n      <td>51.0</td>\n      <td>46.0</td>\n      <td>43</td>\n      <td>43</td>\n      <td>41</td>\n      <td>36</td>\n      <td>35</td>\n      <td>33.0</td>\n      <td>43.0</td>\n    </tr>\n    <tr>\n      <th>3</th>\n      <td>Juneau</td>\n      <td>AK</td>\n      <td>39.0</td>\n      <td>35.0</td>\n      <td>38.0</td>\n      <td>42.0</td>\n      <td>44.0</td>\n      <td>37.0</td>\n      <td>33</td>\n      <td>35</td>\n      <td>27</td>\n      <td>21</td>\n      <td>26</td>\n      <td>21.0</td>\n      <td>33.0</td>\n    </tr>\n    <tr>\n      <th>4</th>\n      <td>Nome</td>\n      <td>AK</td>\n      <td>38.0</td>\n      <td>56.0</td>\n      <td>54.0</td>\n      <td>52.0</td>\n      <td>52.0</td>\n      <td>43.0</td>\n      <td>39</td>\n      <td>34</td>\n      <td>38</td>\n      <td>35</td>\n      <td>30</td>\n      <td>36.0</td>\n      <td>42.0</td>\n    </tr>\n  </tbody>\n</table>\n</div>"
     },
     "metadata": {},
     "execution_count": 12
    }
   ],
   "source": [
    "sun_data.head()"
   ]
  },
  {
   "cell_type": "code",
   "execution_count": 13,
   "metadata": {},
   "outputs": [
    {
     "output_type": "execute_result",
     "data": {
      "text/plain": [
       "         CITY STATE_CODE   JAN   FEB   MAR   APR   MAY   JUN  JUL  AUG  SEP  \\\n",
       "0  Birmingham         AL  46.0  53.0  57.0  65.0  65.0  67.0   59   62   59   \n",
       "1  Birmingham         AL  46.0  53.0  57.0  65.0  65.0  67.0   59   62   59   \n",
       "2  Montgomery         AL  47.0  55.0  58.0  64.0  63.0  64.0   61   61   59   \n",
       "3   Anchorage         AK  43.0  46.0  51.0  50.0  51.0  46.0   43   43   41   \n",
       "4      Juneau         AK  39.0  35.0  38.0  42.0  44.0  37.0   33   35   27   \n",
       "5        Nome         AK  38.0  56.0  54.0  52.0  52.0  43.0   39   34   38   \n",
       "6   Flagstaff         AZ  71.0  73.0  72.0  82.0  83.0  88.0   74   75   79   \n",
       "7     Phoenix         AZ  79.0  81.0  83.0  90.0  93.0  95.0   86   87   89   \n",
       "8      Tucson         AZ  80.0  82.0  86.0  92.0  94.0  93.0   80   84   87   \n",
       "9  Fort Smith         AR  52.0  56.0  58.0  60.0  63.0  70.0   75   70   63   \n",
       "\n",
       "   OCT  NOV   DEC   ANN   LATITUDE   LONGITUDE  \n",
       "0   66   55  49.0  58.0  33.519000  -86.801400  \n",
       "1   66   55  49.0  58.0  33.401559  -86.705511  \n",
       "2   63   55  49.0  58.0  32.374300  -86.311800  \n",
       "3   36   35  33.0  43.0  61.211571 -149.876077  \n",
       "4   21   26  21.0  33.0  58.362767 -134.529429  \n",
       "5   35   30  36.0  42.0  64.505775 -165.310667  \n",
       "6   77   72  76.0  76.0  35.185911 -111.661979  \n",
       "7   88   79  79.0  85.0  33.451000 -112.068500  \n",
       "8   88   83  79.0  85.0  32.213873 -110.969445  \n",
       "9   63   51  51.0  61.0  35.365272  -94.411035  "
      ],
      "text/html": "<div>\n<style scoped>\n    .dataframe tbody tr th:only-of-type {\n        vertical-align: middle;\n    }\n\n    .dataframe tbody tr th {\n        vertical-align: top;\n    }\n\n    .dataframe thead th {\n        text-align: right;\n    }\n</style>\n<table border=\"1\" class=\"dataframe\">\n  <thead>\n    <tr style=\"text-align: right;\">\n      <th></th>\n      <th>CITY</th>\n      <th>STATE_CODE</th>\n      <th>JAN</th>\n      <th>FEB</th>\n      <th>MAR</th>\n      <th>APR</th>\n      <th>MAY</th>\n      <th>JUN</th>\n      <th>JUL</th>\n      <th>AUG</th>\n      <th>SEP</th>\n      <th>OCT</th>\n      <th>NOV</th>\n      <th>DEC</th>\n      <th>ANN</th>\n      <th>LATITUDE</th>\n      <th>LONGITUDE</th>\n    </tr>\n  </thead>\n  <tbody>\n    <tr>\n      <th>0</th>\n      <td>Birmingham</td>\n      <td>AL</td>\n      <td>46.0</td>\n      <td>53.0</td>\n      <td>57.0</td>\n      <td>65.0</td>\n      <td>65.0</td>\n      <td>67.0</td>\n      <td>59</td>\n      <td>62</td>\n      <td>59</td>\n      <td>66</td>\n      <td>55</td>\n      <td>49.0</td>\n      <td>58.0</td>\n      <td>33.519000</td>\n      <td>-86.801400</td>\n    </tr>\n    <tr>\n      <th>1</th>\n      <td>Birmingham</td>\n      <td>AL</td>\n      <td>46.0</td>\n      <td>53.0</td>\n      <td>57.0</td>\n      <td>65.0</td>\n      <td>65.0</td>\n      <td>67.0</td>\n      <td>59</td>\n      <td>62</td>\n      <td>59</td>\n      <td>66</td>\n      <td>55</td>\n      <td>49.0</td>\n      <td>58.0</td>\n      <td>33.401559</td>\n      <td>-86.705511</td>\n    </tr>\n    <tr>\n      <th>2</th>\n      <td>Montgomery</td>\n      <td>AL</td>\n      <td>47.0</td>\n      <td>55.0</td>\n      <td>58.0</td>\n      <td>64.0</td>\n      <td>63.0</td>\n      <td>64.0</td>\n      <td>61</td>\n      <td>61</td>\n      <td>59</td>\n      <td>63</td>\n      <td>55</td>\n      <td>49.0</td>\n      <td>58.0</td>\n      <td>32.374300</td>\n      <td>-86.311800</td>\n    </tr>\n    <tr>\n      <th>3</th>\n      <td>Anchorage</td>\n      <td>AK</td>\n      <td>43.0</td>\n      <td>46.0</td>\n      <td>51.0</td>\n      <td>50.0</td>\n      <td>51.0</td>\n      <td>46.0</td>\n      <td>43</td>\n      <td>43</td>\n      <td>41</td>\n      <td>36</td>\n      <td>35</td>\n      <td>33.0</td>\n      <td>43.0</td>\n      <td>61.211571</td>\n      <td>-149.876077</td>\n    </tr>\n    <tr>\n      <th>4</th>\n      <td>Juneau</td>\n      <td>AK</td>\n      <td>39.0</td>\n      <td>35.0</td>\n      <td>38.0</td>\n      <td>42.0</td>\n      <td>44.0</td>\n      <td>37.0</td>\n      <td>33</td>\n      <td>35</td>\n      <td>27</td>\n      <td>21</td>\n      <td>26</td>\n      <td>21.0</td>\n      <td>33.0</td>\n      <td>58.362767</td>\n      <td>-134.529429</td>\n    </tr>\n    <tr>\n      <th>5</th>\n      <td>Nome</td>\n      <td>AK</td>\n      <td>38.0</td>\n      <td>56.0</td>\n      <td>54.0</td>\n      <td>52.0</td>\n      <td>52.0</td>\n      <td>43.0</td>\n      <td>39</td>\n      <td>34</td>\n      <td>38</td>\n      <td>35</td>\n      <td>30</td>\n      <td>36.0</td>\n      <td>42.0</td>\n      <td>64.505775</td>\n      <td>-165.310667</td>\n    </tr>\n    <tr>\n      <th>6</th>\n      <td>Flagstaff</td>\n      <td>AZ</td>\n      <td>71.0</td>\n      <td>73.0</td>\n      <td>72.0</td>\n      <td>82.0</td>\n      <td>83.0</td>\n      <td>88.0</td>\n      <td>74</td>\n      <td>75</td>\n      <td>79</td>\n      <td>77</td>\n      <td>72</td>\n      <td>76.0</td>\n      <td>76.0</td>\n      <td>35.185911</td>\n      <td>-111.661979</td>\n    </tr>\n    <tr>\n      <th>7</th>\n      <td>Phoenix</td>\n      <td>AZ</td>\n      <td>79.0</td>\n      <td>81.0</td>\n      <td>83.0</td>\n      <td>90.0</td>\n      <td>93.0</td>\n      <td>95.0</td>\n      <td>86</td>\n      <td>87</td>\n      <td>89</td>\n      <td>88</td>\n      <td>79</td>\n      <td>79.0</td>\n      <td>85.0</td>\n      <td>33.451000</td>\n      <td>-112.068500</td>\n    </tr>\n    <tr>\n      <th>8</th>\n      <td>Tucson</td>\n      <td>AZ</td>\n      <td>80.0</td>\n      <td>82.0</td>\n      <td>86.0</td>\n      <td>92.0</td>\n      <td>94.0</td>\n      <td>93.0</td>\n      <td>80</td>\n      <td>84</td>\n      <td>87</td>\n      <td>88</td>\n      <td>83</td>\n      <td>79.0</td>\n      <td>85.0</td>\n      <td>32.213873</td>\n      <td>-110.969445</td>\n    </tr>\n    <tr>\n      <th>9</th>\n      <td>Fort Smith</td>\n      <td>AR</td>\n      <td>52.0</td>\n      <td>56.0</td>\n      <td>58.0</td>\n      <td>60.0</td>\n      <td>63.0</td>\n      <td>70.0</td>\n      <td>75</td>\n      <td>70</td>\n      <td>63</td>\n      <td>63</td>\n      <td>51</td>\n      <td>51.0</td>\n      <td>61.0</td>\n      <td>35.365272</td>\n      <td>-94.411035</td>\n    </tr>\n  </tbody>\n</table>\n</div>"
     },
     "metadata": {},
     "execution_count": 13
    }
   ],
   "source": [
    "merged = pd.merge(sun_data, city_loc, how=\"inner\", on=[\"CITY\", \"STATE_CODE\"])\n",
    "\n",
    "merged.head(10)"
   ]
  },
  {
   "cell_type": "code",
   "execution_count": 14,
   "metadata": {},
   "outputs": [
    {
     "output_type": "execute_result",
     "data": {
      "text/plain": [
       "           CITY STATE_CODE   JAN   FEB   MAR   APR   MAY   JUN  JUL  AUG  SEP  \\\n",
       "0    Birmingham         AL  46.0  53.0  57.0  65.0  65.0  67.0   59   62   59   \n",
       "2    Montgomery         AL  47.0  55.0  58.0  64.0  63.0  64.0   61   61   59   \n",
       "3     Anchorage         AK  43.0  46.0  51.0  50.0  51.0  46.0   43   43   41   \n",
       "4        Juneau         AK  39.0  35.0  38.0  42.0  44.0  37.0   33   35   27   \n",
       "5          Nome         AK  38.0  56.0  54.0  52.0  52.0  43.0   39   34   38   \n",
       "..          ...        ...   ...   ...   ...   ...   ...   ...  ...  ...  ...   \n",
       "173   Milwaukee         WI  47.0  51.0  50.0  52.0  60.0  65.0   69   64   57   \n",
       "174    Cheyenne         WY  58.0  66.0  67.0  66.0  63.0  64.0   67   70   70   \n",
       "175      Lander         WY  63.0  67.0  69.0  65.0  63.0  71.0   74   76   73   \n",
       "176    Sheridan         WY  50.0  55.0  61.0  57.0  59.0  65.0   74   74   69   \n",
       "177    San Juan         PR  66.0  69.0  75.0  69.0  58.0  63.0   68   67   65   \n",
       "\n",
       "     OCT  NOV   DEC   ANN   LATITUDE   LONGITUDE  \n",
       "0     66   55  49.0  58.0  33.519000  -86.801400  \n",
       "2     63   55  49.0  58.0  32.374300  -86.311800  \n",
       "3     36   35  33.0  43.0  61.211571 -149.876077  \n",
       "4     21   26  21.0  33.0  58.362767 -134.529429  \n",
       "5     35   30  36.0  42.0  64.505775 -165.310667  \n",
       "..   ...  ...   ...   ...        ...         ...  \n",
       "173   51   37  35.0  53.0  43.034300  -87.915100  \n",
       "174   67   56  57.0  64.0  41.143719 -104.796234  \n",
       "175   66   58  59.0  67.0  42.859678 -108.738288  \n",
       "176   59   52  52.0  60.0  44.784860 -106.964795  \n",
       "177   60   57  57.0  64.0  18.465200  -66.107100  \n",
       "\n",
       "[140 rows x 17 columns]"
      ],
      "text/html": "<div>\n<style scoped>\n    .dataframe tbody tr th:only-of-type {\n        vertical-align: middle;\n    }\n\n    .dataframe tbody tr th {\n        vertical-align: top;\n    }\n\n    .dataframe thead th {\n        text-align: right;\n    }\n</style>\n<table border=\"1\" class=\"dataframe\">\n  <thead>\n    <tr style=\"text-align: right;\">\n      <th></th>\n      <th>CITY</th>\n      <th>STATE_CODE</th>\n      <th>JAN</th>\n      <th>FEB</th>\n      <th>MAR</th>\n      <th>APR</th>\n      <th>MAY</th>\n      <th>JUN</th>\n      <th>JUL</th>\n      <th>AUG</th>\n      <th>SEP</th>\n      <th>OCT</th>\n      <th>NOV</th>\n      <th>DEC</th>\n      <th>ANN</th>\n      <th>LATITUDE</th>\n      <th>LONGITUDE</th>\n    </tr>\n  </thead>\n  <tbody>\n    <tr>\n      <th>0</th>\n      <td>Birmingham</td>\n      <td>AL</td>\n      <td>46.0</td>\n      <td>53.0</td>\n      <td>57.0</td>\n      <td>65.0</td>\n      <td>65.0</td>\n      <td>67.0</td>\n      <td>59</td>\n      <td>62</td>\n      <td>59</td>\n      <td>66</td>\n      <td>55</td>\n      <td>49.0</td>\n      <td>58.0</td>\n      <td>33.519000</td>\n      <td>-86.801400</td>\n    </tr>\n    <tr>\n      <th>2</th>\n      <td>Montgomery</td>\n      <td>AL</td>\n      <td>47.0</td>\n      <td>55.0</td>\n      <td>58.0</td>\n      <td>64.0</td>\n      <td>63.0</td>\n      <td>64.0</td>\n      <td>61</td>\n      <td>61</td>\n      <td>59</td>\n      <td>63</td>\n      <td>55</td>\n      <td>49.0</td>\n      <td>58.0</td>\n      <td>32.374300</td>\n      <td>-86.311800</td>\n    </tr>\n    <tr>\n      <th>3</th>\n      <td>Anchorage</td>\n      <td>AK</td>\n      <td>43.0</td>\n      <td>46.0</td>\n      <td>51.0</td>\n      <td>50.0</td>\n      <td>51.0</td>\n      <td>46.0</td>\n      <td>43</td>\n      <td>43</td>\n      <td>41</td>\n      <td>36</td>\n      <td>35</td>\n      <td>33.0</td>\n      <td>43.0</td>\n      <td>61.211571</td>\n      <td>-149.876077</td>\n    </tr>\n    <tr>\n      <th>4</th>\n      <td>Juneau</td>\n      <td>AK</td>\n      <td>39.0</td>\n      <td>35.0</td>\n      <td>38.0</td>\n      <td>42.0</td>\n      <td>44.0</td>\n      <td>37.0</td>\n      <td>33</td>\n      <td>35</td>\n      <td>27</td>\n      <td>21</td>\n      <td>26</td>\n      <td>21.0</td>\n      <td>33.0</td>\n      <td>58.362767</td>\n      <td>-134.529429</td>\n    </tr>\n    <tr>\n      <th>5</th>\n      <td>Nome</td>\n      <td>AK</td>\n      <td>38.0</td>\n      <td>56.0</td>\n      <td>54.0</td>\n      <td>52.0</td>\n      <td>52.0</td>\n      <td>43.0</td>\n      <td>39</td>\n      <td>34</td>\n      <td>38</td>\n      <td>35</td>\n      <td>30</td>\n      <td>36.0</td>\n      <td>42.0</td>\n      <td>64.505775</td>\n      <td>-165.310667</td>\n    </tr>\n    <tr>\n      <th>...</th>\n      <td>...</td>\n      <td>...</td>\n      <td>...</td>\n      <td>...</td>\n      <td>...</td>\n      <td>...</td>\n      <td>...</td>\n      <td>...</td>\n      <td>...</td>\n      <td>...</td>\n      <td>...</td>\n      <td>...</td>\n      <td>...</td>\n      <td>...</td>\n      <td>...</td>\n      <td>...</td>\n      <td>...</td>\n    </tr>\n    <tr>\n      <th>173</th>\n      <td>Milwaukee</td>\n      <td>WI</td>\n      <td>47.0</td>\n      <td>51.0</td>\n      <td>50.0</td>\n      <td>52.0</td>\n      <td>60.0</td>\n      <td>65.0</td>\n      <td>69</td>\n      <td>64</td>\n      <td>57</td>\n      <td>51</td>\n      <td>37</td>\n      <td>35.0</td>\n      <td>53.0</td>\n      <td>43.034300</td>\n      <td>-87.915100</td>\n    </tr>\n    <tr>\n      <th>174</th>\n      <td>Cheyenne</td>\n      <td>WY</td>\n      <td>58.0</td>\n      <td>66.0</td>\n      <td>67.0</td>\n      <td>66.0</td>\n      <td>63.0</td>\n      <td>64.0</td>\n      <td>67</td>\n      <td>70</td>\n      <td>70</td>\n      <td>67</td>\n      <td>56</td>\n      <td>57.0</td>\n      <td>64.0</td>\n      <td>41.143719</td>\n      <td>-104.796234</td>\n    </tr>\n    <tr>\n      <th>175</th>\n      <td>Lander</td>\n      <td>WY</td>\n      <td>63.0</td>\n      <td>67.0</td>\n      <td>69.0</td>\n      <td>65.0</td>\n      <td>63.0</td>\n      <td>71.0</td>\n      <td>74</td>\n      <td>76</td>\n      <td>73</td>\n      <td>66</td>\n      <td>58</td>\n      <td>59.0</td>\n      <td>67.0</td>\n      <td>42.859678</td>\n      <td>-108.738288</td>\n    </tr>\n    <tr>\n      <th>176</th>\n      <td>Sheridan</td>\n      <td>WY</td>\n      <td>50.0</td>\n      <td>55.0</td>\n      <td>61.0</td>\n      <td>57.0</td>\n      <td>59.0</td>\n      <td>65.0</td>\n      <td>74</td>\n      <td>74</td>\n      <td>69</td>\n      <td>59</td>\n      <td>52</td>\n      <td>52.0</td>\n      <td>60.0</td>\n      <td>44.784860</td>\n      <td>-106.964795</td>\n    </tr>\n    <tr>\n      <th>177</th>\n      <td>San Juan</td>\n      <td>PR</td>\n      <td>66.0</td>\n      <td>69.0</td>\n      <td>75.0</td>\n      <td>69.0</td>\n      <td>58.0</td>\n      <td>63.0</td>\n      <td>68</td>\n      <td>67</td>\n      <td>65</td>\n      <td>60</td>\n      <td>57</td>\n      <td>57.0</td>\n      <td>64.0</td>\n      <td>18.465200</td>\n      <td>-66.107100</td>\n    </tr>\n  </tbody>\n</table>\n<p>140 rows × 17 columns</p>\n</div>"
     },
     "metadata": {},
     "execution_count": 14
    }
   ],
   "source": [
    "merged_dropped = merged.drop_duplicates(subset=[\"CITY\", \"STATE_CODE\"])\n",
    "\n",
    "merged_dropped"
   ]
  },
  {
   "cell_type": "code",
   "execution_count": 15,
   "metadata": {},
   "outputs": [],
   "source": [
    "merged_dropped = merged_dropped.dropna()"
   ]
  },
  {
   "cell_type": "code",
   "execution_count": 16,
   "metadata": {},
   "outputs": [
    {
     "output_type": "execute_result",
     "data": {
      "text/plain": [
       "           CITY STATE_CODE   JAN   FEB   MAR   APR   MAY   JUN  JUL  AUG  SEP  \\\n",
       "0    Birmingham         AL  46.0  53.0  57.0  65.0  65.0  67.0   59   62   59   \n",
       "2    Montgomery         AL  47.0  55.0  58.0  64.0  63.0  64.0   61   61   59   \n",
       "3     Anchorage         AK  43.0  46.0  51.0  50.0  51.0  46.0   43   43   41   \n",
       "4        Juneau         AK  39.0  35.0  38.0  42.0  44.0  37.0   33   35   27   \n",
       "5          Nome         AK  38.0  56.0  54.0  52.0  52.0  43.0   39   34   38   \n",
       "..          ...        ...   ...   ...   ...   ...   ...   ...  ...  ...  ...   \n",
       "173   Milwaukee         WI  47.0  51.0  50.0  52.0  60.0  65.0   69   64   57   \n",
       "174    Cheyenne         WY  58.0  66.0  67.0  66.0  63.0  64.0   67   70   70   \n",
       "175      Lander         WY  63.0  67.0  69.0  65.0  63.0  71.0   74   76   73   \n",
       "176    Sheridan         WY  50.0  55.0  61.0  57.0  59.0  65.0   74   74   69   \n",
       "177    San Juan         PR  66.0  69.0  75.0  69.0  58.0  63.0   68   67   65   \n",
       "\n",
       "     OCT  NOV   DEC   ANN   LATITUDE   LONGITUDE  \n",
       "0     66   55  49.0  58.0  33.519000  -86.801400  \n",
       "2     63   55  49.0  58.0  32.374300  -86.311800  \n",
       "3     36   35  33.0  43.0  61.211571 -149.876077  \n",
       "4     21   26  21.0  33.0  58.362767 -134.529429  \n",
       "5     35   30  36.0  42.0  64.505775 -165.310667  \n",
       "..   ...  ...   ...   ...        ...         ...  \n",
       "173   51   37  35.0  53.0  43.034300  -87.915100  \n",
       "174   67   56  57.0  64.0  41.143719 -104.796234  \n",
       "175   66   58  59.0  67.0  42.859678 -108.738288  \n",
       "176   59   52  52.0  60.0  44.784860 -106.964795  \n",
       "177   60   57  57.0  64.0  18.465200  -66.107100  \n",
       "\n",
       "[135 rows x 17 columns]"
      ],
      "text/html": "<div>\n<style scoped>\n    .dataframe tbody tr th:only-of-type {\n        vertical-align: middle;\n    }\n\n    .dataframe tbody tr th {\n        vertical-align: top;\n    }\n\n    .dataframe thead th {\n        text-align: right;\n    }\n</style>\n<table border=\"1\" class=\"dataframe\">\n  <thead>\n    <tr style=\"text-align: right;\">\n      <th></th>\n      <th>CITY</th>\n      <th>STATE_CODE</th>\n      <th>JAN</th>\n      <th>FEB</th>\n      <th>MAR</th>\n      <th>APR</th>\n      <th>MAY</th>\n      <th>JUN</th>\n      <th>JUL</th>\n      <th>AUG</th>\n      <th>SEP</th>\n      <th>OCT</th>\n      <th>NOV</th>\n      <th>DEC</th>\n      <th>ANN</th>\n      <th>LATITUDE</th>\n      <th>LONGITUDE</th>\n    </tr>\n  </thead>\n  <tbody>\n    <tr>\n      <th>0</th>\n      <td>Birmingham</td>\n      <td>AL</td>\n      <td>46.0</td>\n      <td>53.0</td>\n      <td>57.0</td>\n      <td>65.0</td>\n      <td>65.0</td>\n      <td>67.0</td>\n      <td>59</td>\n      <td>62</td>\n      <td>59</td>\n      <td>66</td>\n      <td>55</td>\n      <td>49.0</td>\n      <td>58.0</td>\n      <td>33.519000</td>\n      <td>-86.801400</td>\n    </tr>\n    <tr>\n      <th>2</th>\n      <td>Montgomery</td>\n      <td>AL</td>\n      <td>47.0</td>\n      <td>55.0</td>\n      <td>58.0</td>\n      <td>64.0</td>\n      <td>63.0</td>\n      <td>64.0</td>\n      <td>61</td>\n      <td>61</td>\n      <td>59</td>\n      <td>63</td>\n      <td>55</td>\n      <td>49.0</td>\n      <td>58.0</td>\n      <td>32.374300</td>\n      <td>-86.311800</td>\n    </tr>\n    <tr>\n      <th>3</th>\n      <td>Anchorage</td>\n      <td>AK</td>\n      <td>43.0</td>\n      <td>46.0</td>\n      <td>51.0</td>\n      <td>50.0</td>\n      <td>51.0</td>\n      <td>46.0</td>\n      <td>43</td>\n      <td>43</td>\n      <td>41</td>\n      <td>36</td>\n      <td>35</td>\n      <td>33.0</td>\n      <td>43.0</td>\n      <td>61.211571</td>\n      <td>-149.876077</td>\n    </tr>\n    <tr>\n      <th>4</th>\n      <td>Juneau</td>\n      <td>AK</td>\n      <td>39.0</td>\n      <td>35.0</td>\n      <td>38.0</td>\n      <td>42.0</td>\n      <td>44.0</td>\n      <td>37.0</td>\n      <td>33</td>\n      <td>35</td>\n      <td>27</td>\n      <td>21</td>\n      <td>26</td>\n      <td>21.0</td>\n      <td>33.0</td>\n      <td>58.362767</td>\n      <td>-134.529429</td>\n    </tr>\n    <tr>\n      <th>5</th>\n      <td>Nome</td>\n      <td>AK</td>\n      <td>38.0</td>\n      <td>56.0</td>\n      <td>54.0</td>\n      <td>52.0</td>\n      <td>52.0</td>\n      <td>43.0</td>\n      <td>39</td>\n      <td>34</td>\n      <td>38</td>\n      <td>35</td>\n      <td>30</td>\n      <td>36.0</td>\n      <td>42.0</td>\n      <td>64.505775</td>\n      <td>-165.310667</td>\n    </tr>\n    <tr>\n      <th>...</th>\n      <td>...</td>\n      <td>...</td>\n      <td>...</td>\n      <td>...</td>\n      <td>...</td>\n      <td>...</td>\n      <td>...</td>\n      <td>...</td>\n      <td>...</td>\n      <td>...</td>\n      <td>...</td>\n      <td>...</td>\n      <td>...</td>\n      <td>...</td>\n      <td>...</td>\n      <td>...</td>\n      <td>...</td>\n    </tr>\n    <tr>\n      <th>173</th>\n      <td>Milwaukee</td>\n      <td>WI</td>\n      <td>47.0</td>\n      <td>51.0</td>\n      <td>50.0</td>\n      <td>52.0</td>\n      <td>60.0</td>\n      <td>65.0</td>\n      <td>69</td>\n      <td>64</td>\n      <td>57</td>\n      <td>51</td>\n      <td>37</td>\n      <td>35.0</td>\n      <td>53.0</td>\n      <td>43.034300</td>\n      <td>-87.915100</td>\n    </tr>\n    <tr>\n      <th>174</th>\n      <td>Cheyenne</td>\n      <td>WY</td>\n      <td>58.0</td>\n      <td>66.0</td>\n      <td>67.0</td>\n      <td>66.0</td>\n      <td>63.0</td>\n      <td>64.0</td>\n      <td>67</td>\n      <td>70</td>\n      <td>70</td>\n      <td>67</td>\n      <td>56</td>\n      <td>57.0</td>\n      <td>64.0</td>\n      <td>41.143719</td>\n      <td>-104.796234</td>\n    </tr>\n    <tr>\n      <th>175</th>\n      <td>Lander</td>\n      <td>WY</td>\n      <td>63.0</td>\n      <td>67.0</td>\n      <td>69.0</td>\n      <td>65.0</td>\n      <td>63.0</td>\n      <td>71.0</td>\n      <td>74</td>\n      <td>76</td>\n      <td>73</td>\n      <td>66</td>\n      <td>58</td>\n      <td>59.0</td>\n      <td>67.0</td>\n      <td>42.859678</td>\n      <td>-108.738288</td>\n    </tr>\n    <tr>\n      <th>176</th>\n      <td>Sheridan</td>\n      <td>WY</td>\n      <td>50.0</td>\n      <td>55.0</td>\n      <td>61.0</td>\n      <td>57.0</td>\n      <td>59.0</td>\n      <td>65.0</td>\n      <td>74</td>\n      <td>74</td>\n      <td>69</td>\n      <td>59</td>\n      <td>52</td>\n      <td>52.0</td>\n      <td>60.0</td>\n      <td>44.784860</td>\n      <td>-106.964795</td>\n    </tr>\n    <tr>\n      <th>177</th>\n      <td>San Juan</td>\n      <td>PR</td>\n      <td>66.0</td>\n      <td>69.0</td>\n      <td>75.0</td>\n      <td>69.0</td>\n      <td>58.0</td>\n      <td>63.0</td>\n      <td>68</td>\n      <td>67</td>\n      <td>65</td>\n      <td>60</td>\n      <td>57</td>\n      <td>57.0</td>\n      <td>64.0</td>\n      <td>18.465200</td>\n      <td>-66.107100</td>\n    </tr>\n  </tbody>\n</table>\n<p>135 rows × 17 columns</p>\n</div>"
     },
     "metadata": {},
     "execution_count": 16
    }
   ],
   "source": [
    "merged_dropped"
   ]
  },
  {
   "cell_type": "code",
   "execution_count": 17,
   "metadata": {},
   "outputs": [],
   "source": [
    "merged_dropped = merged_dropped.set_index('CITY')"
   ]
  },
  {
   "cell_type": "code",
   "execution_count": 20,
   "metadata": {},
   "outputs": [
    {
     "output_type": "execute_result",
     "data": {
      "text/plain": [
       "           STATE_CODE   JAN   FEB   MAR   APR   MAY   JUN  JUL  AUG  SEP  OCT  \\\n",
       "CITY                                                                            \n",
       "Birmingham         AL  46.0  53.0  57.0  65.0  65.0  67.0   59   62   59   66   \n",
       "Montgomery         AL  47.0  55.0  58.0  64.0  63.0  64.0   61   61   59   63   \n",
       "Anchorage          AK  43.0  46.0  51.0  50.0  51.0  46.0   43   43   41   36   \n",
       "Juneau             AK  39.0  35.0  38.0  42.0  44.0  37.0   33   35   27   21   \n",
       "Nome               AK  38.0  56.0  54.0  52.0  52.0  43.0   39   34   38   35   \n",
       "...               ...   ...   ...   ...   ...   ...   ...  ...  ...  ...  ...   \n",
       "Milwaukee          WI  47.0  51.0  50.0  52.0  60.0  65.0   69   64   57   51   \n",
       "Cheyenne           WY  58.0  66.0  67.0  66.0  63.0  64.0   67   70   70   67   \n",
       "Lander             WY  63.0  67.0  69.0  65.0  63.0  71.0   74   76   73   66   \n",
       "Sheridan           WY  50.0  55.0  61.0  57.0  59.0  65.0   74   74   69   59   \n",
       "San Juan           PR  66.0  69.0  75.0  69.0  58.0  63.0   68   67   65   60   \n",
       "\n",
       "            NOV   DEC   ANN   LATITUDE   LONGITUDE     WINTER     SPRING  \\\n",
       "CITY                                                                       \n",
       "Birmingham   55  49.0  58.0  33.519000  -86.801400  49.333333  62.333333   \n",
       "Montgomery   55  49.0  58.0  32.374300  -86.311800  50.333333  61.666667   \n",
       "Anchorage    35  33.0  43.0  61.211571 -149.876077  40.666667  50.666667   \n",
       "Juneau       26  21.0  33.0  58.362767 -134.529429  31.666667  41.333333   \n",
       "Nome         30  36.0  42.0  64.505775 -165.310667  43.333333  52.666667   \n",
       "...         ...   ...   ...        ...         ...        ...        ...   \n",
       "Milwaukee    37  35.0  53.0  43.034300  -87.915100  44.333333  54.000000   \n",
       "Cheyenne     56  57.0  64.0  41.143719 -104.796234  60.333333  65.333333   \n",
       "Lander       58  59.0  67.0  42.859678 -108.738288  63.000000  65.666667   \n",
       "Sheridan     52  52.0  60.0  44.784860 -106.964795  52.333333  59.000000   \n",
       "San Juan     57  57.0  64.0  18.465200  -66.107100  64.000000  67.333333   \n",
       "\n",
       "               SUMMER       FALL  \n",
       "CITY                              \n",
       "Birmingham  62.666667  60.000000  \n",
       "Montgomery  62.000000  59.000000  \n",
       "Anchorage   44.000000  37.333333  \n",
       "Juneau      35.000000  24.666667  \n",
       "Nome        38.666667  34.333333  \n",
       "...               ...        ...  \n",
       "Milwaukee   66.000000  48.333333  \n",
       "Cheyenne    67.000000  64.333333  \n",
       "Lander      73.666667  65.666667  \n",
       "Sheridan    71.000000  60.000000  \n",
       "San Juan    66.000000  60.666667  \n",
       "\n",
       "[135 rows x 20 columns]"
      ],
      "text/html": "<div>\n<style scoped>\n    .dataframe tbody tr th:only-of-type {\n        vertical-align: middle;\n    }\n\n    .dataframe tbody tr th {\n        vertical-align: top;\n    }\n\n    .dataframe thead th {\n        text-align: right;\n    }\n</style>\n<table border=\"1\" class=\"dataframe\">\n  <thead>\n    <tr style=\"text-align: right;\">\n      <th></th>\n      <th>STATE_CODE</th>\n      <th>JAN</th>\n      <th>FEB</th>\n      <th>MAR</th>\n      <th>APR</th>\n      <th>MAY</th>\n      <th>JUN</th>\n      <th>JUL</th>\n      <th>AUG</th>\n      <th>SEP</th>\n      <th>OCT</th>\n      <th>NOV</th>\n      <th>DEC</th>\n      <th>ANN</th>\n      <th>LATITUDE</th>\n      <th>LONGITUDE</th>\n      <th>WINTER</th>\n      <th>SPRING</th>\n      <th>SUMMER</th>\n      <th>FALL</th>\n    </tr>\n    <tr>\n      <th>CITY</th>\n      <th></th>\n      <th></th>\n      <th></th>\n      <th></th>\n      <th></th>\n      <th></th>\n      <th></th>\n      <th></th>\n      <th></th>\n      <th></th>\n      <th></th>\n      <th></th>\n      <th></th>\n      <th></th>\n      <th></th>\n      <th></th>\n      <th></th>\n      <th></th>\n      <th></th>\n      <th></th>\n    </tr>\n  </thead>\n  <tbody>\n    <tr>\n      <th>Birmingham</th>\n      <td>AL</td>\n      <td>46.0</td>\n      <td>53.0</td>\n      <td>57.0</td>\n      <td>65.0</td>\n      <td>65.0</td>\n      <td>67.0</td>\n      <td>59</td>\n      <td>62</td>\n      <td>59</td>\n      <td>66</td>\n      <td>55</td>\n      <td>49.0</td>\n      <td>58.0</td>\n      <td>33.519000</td>\n      <td>-86.801400</td>\n      <td>49.333333</td>\n      <td>62.333333</td>\n      <td>62.666667</td>\n      <td>60.000000</td>\n    </tr>\n    <tr>\n      <th>Montgomery</th>\n      <td>AL</td>\n      <td>47.0</td>\n      <td>55.0</td>\n      <td>58.0</td>\n      <td>64.0</td>\n      <td>63.0</td>\n      <td>64.0</td>\n      <td>61</td>\n      <td>61</td>\n      <td>59</td>\n      <td>63</td>\n      <td>55</td>\n      <td>49.0</td>\n      <td>58.0</td>\n      <td>32.374300</td>\n      <td>-86.311800</td>\n      <td>50.333333</td>\n      <td>61.666667</td>\n      <td>62.000000</td>\n      <td>59.000000</td>\n    </tr>\n    <tr>\n      <th>Anchorage</th>\n      <td>AK</td>\n      <td>43.0</td>\n      <td>46.0</td>\n      <td>51.0</td>\n      <td>50.0</td>\n      <td>51.0</td>\n      <td>46.0</td>\n      <td>43</td>\n      <td>43</td>\n      <td>41</td>\n      <td>36</td>\n      <td>35</td>\n      <td>33.0</td>\n      <td>43.0</td>\n      <td>61.211571</td>\n      <td>-149.876077</td>\n      <td>40.666667</td>\n      <td>50.666667</td>\n      <td>44.000000</td>\n      <td>37.333333</td>\n    </tr>\n    <tr>\n      <th>Juneau</th>\n      <td>AK</td>\n      <td>39.0</td>\n      <td>35.0</td>\n      <td>38.0</td>\n      <td>42.0</td>\n      <td>44.0</td>\n      <td>37.0</td>\n      <td>33</td>\n      <td>35</td>\n      <td>27</td>\n      <td>21</td>\n      <td>26</td>\n      <td>21.0</td>\n      <td>33.0</td>\n      <td>58.362767</td>\n      <td>-134.529429</td>\n      <td>31.666667</td>\n      <td>41.333333</td>\n      <td>35.000000</td>\n      <td>24.666667</td>\n    </tr>\n    <tr>\n      <th>Nome</th>\n      <td>AK</td>\n      <td>38.0</td>\n      <td>56.0</td>\n      <td>54.0</td>\n      <td>52.0</td>\n      <td>52.0</td>\n      <td>43.0</td>\n      <td>39</td>\n      <td>34</td>\n      <td>38</td>\n      <td>35</td>\n      <td>30</td>\n      <td>36.0</td>\n      <td>42.0</td>\n      <td>64.505775</td>\n      <td>-165.310667</td>\n      <td>43.333333</td>\n      <td>52.666667</td>\n      <td>38.666667</td>\n      <td>34.333333</td>\n    </tr>\n    <tr>\n      <th>...</th>\n      <td>...</td>\n      <td>...</td>\n      <td>...</td>\n      <td>...</td>\n      <td>...</td>\n      <td>...</td>\n      <td>...</td>\n      <td>...</td>\n      <td>...</td>\n      <td>...</td>\n      <td>...</td>\n      <td>...</td>\n      <td>...</td>\n      <td>...</td>\n      <td>...</td>\n      <td>...</td>\n      <td>...</td>\n      <td>...</td>\n      <td>...</td>\n      <td>...</td>\n    </tr>\n    <tr>\n      <th>Milwaukee</th>\n      <td>WI</td>\n      <td>47.0</td>\n      <td>51.0</td>\n      <td>50.0</td>\n      <td>52.0</td>\n      <td>60.0</td>\n      <td>65.0</td>\n      <td>69</td>\n      <td>64</td>\n      <td>57</td>\n      <td>51</td>\n      <td>37</td>\n      <td>35.0</td>\n      <td>53.0</td>\n      <td>43.034300</td>\n      <td>-87.915100</td>\n      <td>44.333333</td>\n      <td>54.000000</td>\n      <td>66.000000</td>\n      <td>48.333333</td>\n    </tr>\n    <tr>\n      <th>Cheyenne</th>\n      <td>WY</td>\n      <td>58.0</td>\n      <td>66.0</td>\n      <td>67.0</td>\n      <td>66.0</td>\n      <td>63.0</td>\n      <td>64.0</td>\n      <td>67</td>\n      <td>70</td>\n      <td>70</td>\n      <td>67</td>\n      <td>56</td>\n      <td>57.0</td>\n      <td>64.0</td>\n      <td>41.143719</td>\n      <td>-104.796234</td>\n      <td>60.333333</td>\n      <td>65.333333</td>\n      <td>67.000000</td>\n      <td>64.333333</td>\n    </tr>\n    <tr>\n      <th>Lander</th>\n      <td>WY</td>\n      <td>63.0</td>\n      <td>67.0</td>\n      <td>69.0</td>\n      <td>65.0</td>\n      <td>63.0</td>\n      <td>71.0</td>\n      <td>74</td>\n      <td>76</td>\n      <td>73</td>\n      <td>66</td>\n      <td>58</td>\n      <td>59.0</td>\n      <td>67.0</td>\n      <td>42.859678</td>\n      <td>-108.738288</td>\n      <td>63.000000</td>\n      <td>65.666667</td>\n      <td>73.666667</td>\n      <td>65.666667</td>\n    </tr>\n    <tr>\n      <th>Sheridan</th>\n      <td>WY</td>\n      <td>50.0</td>\n      <td>55.0</td>\n      <td>61.0</td>\n      <td>57.0</td>\n      <td>59.0</td>\n      <td>65.0</td>\n      <td>74</td>\n      <td>74</td>\n      <td>69</td>\n      <td>59</td>\n      <td>52</td>\n      <td>52.0</td>\n      <td>60.0</td>\n      <td>44.784860</td>\n      <td>-106.964795</td>\n      <td>52.333333</td>\n      <td>59.000000</td>\n      <td>71.000000</td>\n      <td>60.000000</td>\n    </tr>\n    <tr>\n      <th>San Juan</th>\n      <td>PR</td>\n      <td>66.0</td>\n      <td>69.0</td>\n      <td>75.0</td>\n      <td>69.0</td>\n      <td>58.0</td>\n      <td>63.0</td>\n      <td>68</td>\n      <td>67</td>\n      <td>65</td>\n      <td>60</td>\n      <td>57</td>\n      <td>57.0</td>\n      <td>64.0</td>\n      <td>18.465200</td>\n      <td>-66.107100</td>\n      <td>64.000000</td>\n      <td>67.333333</td>\n      <td>66.000000</td>\n      <td>60.666667</td>\n    </tr>\n  </tbody>\n</table>\n<p>135 rows × 20 columns</p>\n</div>"
     },
     "metadata": {},
     "execution_count": 20
    }
   ],
   "source": [
    "merged_dropped[\"WINTER\"] = (merged_dropped[\"DEC\"] + merged_dropped[\"JAN\"] + merged_dropped[\"FEB\"])/3\n",
    "merged_dropped[\"SPRING\"] = (merged_dropped[\"MAR\"] + merged_dropped[\"APR\"] + merged_dropped[\"MAY\"])/3\n",
    "merged_dropped[\"SUMMER\"] = (merged_dropped[\"JUN\"] + merged_dropped[\"JUL\"] + merged_dropped[\"AUG\"])/3\n",
    "merged_dropped[\"FALL\"] = (merged_dropped[\"SEP\"] + merged_dropped[\"OCT\"] + merged_dropped[\"NOV\"])/3\n",
    "\n",
    "merged_dropped"
   ]
  },
  {
   "cell_type": "code",
   "execution_count": 21,
   "metadata": {},
   "outputs": [],
   "source": [
    "merged_dropped.to_csv(\"Data/merged_sun_data.csv\")"
   ]
  },
  {
   "cell_type": "code",
   "execution_count": null,
   "metadata": {},
   "outputs": [],
   "source": []
  }
 ]
}